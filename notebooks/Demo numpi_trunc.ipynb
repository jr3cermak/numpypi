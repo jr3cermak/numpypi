{
 "cells": [
  {
   "cell_type": "code",
   "execution_count": 1,
   "metadata": {},
   "outputs": [],
   "source": [
    "import numpypi_trunc as numpy"
   ]
  },
  {
   "cell_type": "code",
   "execution_count": 2,
   "metadata": {},
   "outputs": [
    {
     "name": "stdout",
     "output_type": "stream",
     "text": [
      "[0 1 2]\n"
     ]
    }
   ],
   "source": [
    "print( numpy.arange(3) )"
   ]
  },
  {
   "cell_type": "code",
   "execution_count": 3,
   "metadata": {},
   "outputs": [
    {
     "name": "stdout",
     "output_type": "stream",
     "text": [
      "3.141592653589793 0.3333333333333333 -0.3333333333333333\n",
      "3.141592653589793 0.3333333333333333 -0.3333333333333333\n",
      "[0. 0. 0.]\n",
      "3.125\n"
     ]
    }
   ],
   "source": [
    "x = numpy.array([numpy.pi, 1./3, -1./3])\n",
    "y = numpy.round_lastbits( x ,bits=0)\n",
    "print(x[0],x[1],x[2])\n",
    "print(y[0],y[1],y[2])\n",
    "print(y-x)\n",
    "print( numpy.round_lastbits( numpy.pi, bits=47 ) )"
   ]
  },
  {
   "cell_type": "code",
   "execution_count": 4,
   "metadata": {},
   "outputs": [
    {
     "name": "stdout",
     "output_type": "stream",
     "text": [
      "0\n"
     ]
    }
   ],
   "source": [
    "n = 1*1024*1024\n",
    "numpy.random.seed(11)\n",
    "x = numpy.tan( numpy.pi * ( numpy.random.rand(n) - 0.5 ) )\n",
    "y = numpy.round_lastbits( x, bits=0 )\n",
    "print( numpy.count_nonzero( y-x ) )"
   ]
  },
  {
   "cell_type": "code",
   "execution_count": 5,
   "metadata": {},
   "outputs": [
    {
     "name": "stdout",
     "output_type": "stream",
     "text": [
      "1031974 0.015832901000976562\n",
      "1044405 0.003977775573730469\n",
      "1047511 0.0010156631469726562\n",
      "1048318 0.0002460479736328125\n"
     ]
    }
   ],
   "source": [
    "n = 1*1024*1024\n",
    "numpy.random.seed(11)\n",
    "x = numpy.tan( numpy.pi * ( numpy.random.rand(n) - 0.5 ) )\n",
    "y = numpy.round_lastbits( x, bits=6 )\n",
    "print( numpy.count_nonzero( y-x ), 1-numpy.count_nonzero( y-x )/n )\n",
    "y = numpy.round_lastbits( x, bits=8 )\n",
    "print( numpy.count_nonzero( y-x ), 1-numpy.count_nonzero( y-x )/n )\n",
    "y = numpy.round_lastbits( x, bits=10 )\n",
    "print( numpy.count_nonzero( y-x ), 1-numpy.count_nonzero( y-x )/n )\n",
    "y = numpy.round_lastbits( x, bits=12 )\n",
    "print( numpy.count_nonzero( y-x ), 1-numpy.count_nonzero( y-x )/n )"
   ]
  },
  {
   "cell_type": "code",
   "execution_count": 6,
   "metadata": {},
   "outputs": [
    {
     "name": "stdout",
     "output_type": "stream",
     "text": [
      "3.141592653589793\n",
      "3.1416015625\n"
     ]
    }
   ],
   "source": [
    "print( numpy.round_lastbits( numpy.pi ) )\n",
    "numpy.set_rounding_bits(40)\n",
    "print( numpy.round_lastbits( numpy.pi ) )\n",
    "numpy.set_rounding_bits(0)"
   ]
  },
  {
   "cell_type": "code",
   "execution_count": 7,
   "metadata": {},
   "outputs": [
    {
     "name": "stdout",
     "output_type": "stream",
     "text": [
      "Original numpy results\n",
      "[0.]\n",
      "[-1.11022302e-16]\n",
      "[-1.11022302e-16]\n",
      "numpypi results with bits=0\n",
      "[0.]\n",
      "[-1.11022302e-16]\n",
      "[-1.11022302e-16]\n",
      "numpypi results with bits=12\n",
      "[0.]\n",
      "[0.]\n",
      "[0.]\n",
      "numpypi results with bits=12 compared to rounded results\n",
      "[0.]\n",
      "[0.]\n",
      "[0.]\n"
     ]
    }
   ],
   "source": [
    "print('Original numpy results')\n",
    "numpy.unset_rounding_bits()\n",
    "print( numpy.cos( [numpy.pi/4] ) - 0.5*numpy.sqrt(2) )\n",
    "print( numpy.sin( [numpy.pi/4] ) - 0.5*numpy.sqrt(2) )\n",
    "print( numpy.tan( [numpy.pi/4] ) - 1.0 )\n",
    "print('numpypi results with bits=0')\n",
    "numpy.set_rounding_bits(0)\n",
    "print( numpy.cos( [numpy.pi/4] ) - 0.5*numpy.sqrt(2) )\n",
    "print( numpy.sin( [numpy.pi/4] ) - 0.5*numpy.sqrt(2) )\n",
    "print( numpy.tan( [numpy.pi/4] ) - 1.0 )\n",
    "print('numpypi results with bits=12')\n",
    "numpy.set_rounding_bits(12)\n",
    "print( numpy.cos( [numpy.pi/4] ) - 0.5*numpy.sqrt(2) )\n",
    "print( numpy.sin( [numpy.pi/4] ) - 0.5*numpy.sqrt(2) )\n",
    "print( numpy.tan( [numpy.pi/4] ) - 1.0 )\n",
    "print('numpypi results with bits=12 compared to rounded results')\n",
    "print( numpy.cos( [numpy.pi/4] ) - numpy.round_lastbits( 0.5*numpy.sqrt(2) ) )\n",
    "print( numpy.sin( [numpy.pi/4] ) - numpy.round_lastbits( 0.5*numpy.sqrt(2) ) )\n",
    "print( numpy.tan( [numpy.pi/4] ) - 1.0 )"
   ]
  }
 ],
 "metadata": {
  "kernelspec": {
   "display_name": "Python 3",
   "language": "python",
   "name": "python3"
  },
  "language_info": {
   "codemirror_mode": {
    "name": "ipython",
    "version": 3
   },
   "file_extension": ".py",
   "mimetype": "text/x-python",
   "name": "python",
   "nbconvert_exporter": "python",
   "pygments_lexer": "ipython3",
   "version": "3.7.2"
  }
 },
 "nbformat": 4,
 "nbformat_minor": 2
}
